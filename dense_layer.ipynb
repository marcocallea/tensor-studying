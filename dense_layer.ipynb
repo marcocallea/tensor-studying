{
 "cells": [
  {
   "cell_type": "markdown",
   "id": "c3da01d5-41f2-4254-9cc3-70433f64c10e",
   "metadata": {},
   "source": [
    "Esempio di implementazione Dense layer come sottoclasse di un Layer (lo stesso usato per linear_classifier)"
   ]
  },
  {
   "cell_type": "code",
   "execution_count": 13,
   "id": "f9a9ff8c-3f69-4fc0-a572-5312ba5bf2c4",
   "metadata": {},
   "outputs": [],
   "source": [
    "from tensorflow import keras\n",
    "\n",
    "class SimpleDense(keras.layers.Layer):\n",
    "\n",
    "    def __init__(self,units,activation=None):\n",
    "        super().__init__()\n",
    "        self.units = units\n",
    "        self.activation = activation\n",
    "\n",
    "    def build(self, input_shape):\n",
    "        input_dim = input_shape[-1]\n",
    "        self.W = self.add_weight(shape=(input_dim, self.units), initializer=\"zeros\")\n",
    "        self.b = self.add_weight(shape=(self.units,), initializer=\"zeros\")\n",
    "\n",
    "    def call(self,inputs):\n",
    "        y = tf.matmul(inputs, self.W) + self.b\n",
    "        if self.activation is not None:\n",
    "            y:self.activation(y)\n",
    "        return y"
   ]
  },
  {
   "cell_type": "markdown",
   "id": "f0f84dcc-f16b-4313-8039-063c184998f1",
   "metadata": {},
   "source": [
    "Una volta instanziato, un layer può essere usato come una funzione che prende in input un tensor (e ne restituisce un altro in output):"
   ]
  },
  {
   "cell_type": "code",
   "execution_count": 14,
   "id": "372856b4-55d4-4408-8c12-67cc41d90fe0",
   "metadata": {},
   "outputs": [
    {
     "name": "stdout",
     "output_type": "stream",
     "text": [
      "(2, 32)\n"
     ]
    }
   ],
   "source": [
    "my_dense = SimpleDense(units=32, activation=tf.nn.relu)\n",
    "input_tensor = tf.ones(shape=(2, 784))\n",
    "output_tensor = my_dense(input_tensor)\n",
    "print(output_tensor.shape)"
   ]
  },
  {
   "cell_type": "markdown",
   "id": "a1f5fe12-20cc-4528-8e98-9ae9af57857b",
   "metadata": {},
   "source": []
  }
 ],
 "metadata": {
  "kernelspec": {
   "display_name": "Python 3 (ipykernel)",
   "language": "python",
   "name": "python3"
  },
  "language_info": {
   "codemirror_mode": {
    "name": "ipython",
    "version": 3
   },
   "file_extension": ".py",
   "mimetype": "text/x-python",
   "name": "python",
   "nbconvert_exporter": "python",
   "pygments_lexer": "ipython3",
   "version": "3.13.7"
  }
 },
 "nbformat": 4,
 "nbformat_minor": 5
}
