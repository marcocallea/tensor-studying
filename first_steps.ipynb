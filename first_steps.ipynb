{
 "cells": [
  {
   "cell_type": "code",
   "execution_count": 1,
   "id": "3a86816c-d62f-4c3b-9714-def173c42941",
   "metadata": {},
   "outputs": [
    {
     "name": "stderr",
     "output_type": "stream",
     "text": [
      "2025-09-30 22:34:55.965980: I external/local_xla/xla/tsl/cuda/cudart_stub.cc:31] Could not find cuda drivers on your machine, GPU will not be used.\n",
      "2025-09-30 22:34:56.164250: I tensorflow/core/platform/cpu_feature_guard.cc:210] This TensorFlow binary is optimized to use available CPU instructions in performance-critical operations.\n",
      "To enable the following instructions: AVX2 FMA, in other operations, rebuild TensorFlow with the appropriate compiler flags.\n",
      "2025-09-30 22:35:01.304483: I external/local_xla/xla/tsl/cuda/cudart_stub.cc:31] Could not find cuda drivers on your machine, GPU will not be used.\n",
      "2025-09-30 22:35:04.048779: E external/local_xla/xla/stream_executor/cuda/cuda_platform.cc:51] failed call to cuInit: INTERNAL: CUDA error: Failed call to cuInit: UNKNOWN ERROR (303)\n"
     ]
    },
    {
     "name": "stdout",
     "output_type": "stream",
     "text": [
      "Epoch 1/5\n",
      "\u001b[1m469/469\u001b[0m \u001b[32m━━━━━━━━━━━━━━━━━━━━\u001b[0m\u001b[37m\u001b[0m \u001b[1m9s\u001b[0m 15ms/step - accuracy: 0.9252 - loss: 0.2626\n",
      "Epoch 2/5\n",
      "\u001b[1m469/469\u001b[0m \u001b[32m━━━━━━━━━━━━━━━━━━━━\u001b[0m\u001b[37m\u001b[0m \u001b[1m7s\u001b[0m 14ms/step - accuracy: 0.9685 - loss: 0.1078\n",
      "Epoch 3/5\n",
      "\u001b[1m469/469\u001b[0m \u001b[32m━━━━━━━━━━━━━━━━━━━━\u001b[0m\u001b[37m\u001b[0m \u001b[1m6s\u001b[0m 14ms/step - accuracy: 0.9791 - loss: 0.0710\n",
      "Epoch 4/5\n",
      "\u001b[1m469/469\u001b[0m \u001b[32m━━━━━━━━━━━━━━━━━━━━\u001b[0m\u001b[37m\u001b[0m \u001b[1m6s\u001b[0m 14ms/step - accuracy: 0.9851 - loss: 0.0507\n",
      "Epoch 5/5\n",
      "\u001b[1m469/469\u001b[0m \u001b[32m━━━━━━━━━━━━━━━━━━━━\u001b[0m\u001b[37m\u001b[0m \u001b[1m7s\u001b[0m 14ms/step - accuracy: 0.9890 - loss: 0.0378\n"
     ]
    },
    {
     "data": {
      "text/plain": [
       "<keras.src.callbacks.history.History at 0x7f5108658c20>"
      ]
     },
     "execution_count": 1,
     "metadata": {},
     "output_type": "execute_result"
    }
   ],
   "source": [
    "#importo il dataset mnist\n",
    "from tensorflow.keras.datasets import mnist\n",
    "(train_images, train_labels) , (test_images, test_labels) = mnist.load_data()\n",
    "\n",
    "from tensorflow import keras\n",
    "from tensorflow.keras import layers\n",
    "\n",
    "#passa attraverso due layer di tipo dense\n",
    "model = keras.Sequential([layers.Dense(512,activation=\"relu\"), layers.Dense(10,activation=\"softmax\")])\n",
    "\n",
    "#importante prima di addestrare il modello\n",
    "model.compile(optimizer=\"rmsprop\",loss=\"sparse_categorical_crossentropy\",metrics=[\"accuracy\"])\n",
    "\n",
    "#rendo i set compatibili per il modello\n",
    "train_images = train_images.reshape((60000, 28*28))\n",
    "train_images = train_images.astype(\"float32\")/255\n",
    "test_images = test_images.reshape((10000, 28*28))\n",
    "test_images = test_images.astype(\"float32\")/255\n",
    "\n",
    "#addestriamo il modello\n",
    "model.fit(train_images, train_labels, epochs=5, batch_size=128)"
   ]
  },
  {
   "cell_type": "code",
   "execution_count": 12,
   "id": "06c36c64-58ef-4d63-b6f4-7324130f4c2f",
   "metadata": {},
   "outputs": [
    {
     "name": "stdout",
     "output_type": "stream",
     "text": [
      "\u001b[1m1/1\u001b[0m \u001b[32m━━━━━━━━━━━━━━━━━━━━\u001b[0m\u001b[37m\u001b[0m \u001b[1m0s\u001b[0m 128ms/step\n",
      "[5.4916733e-09 2.0053015e-09 5.3098229e-06 1.4387363e-05 4.0189400e-11\n",
      " 2.9271499e-09 5.3820343e-13 9.9997908e-01 8.8378540e-09 1.0383618e-06]\n",
      "\u001b[1m313/313\u001b[0m \u001b[32m━━━━━━━━━━━━━━━━━━━━\u001b[0m\u001b[37m\u001b[0m \u001b[1m2s\u001b[0m 7ms/step - accuracy: 0.9786 - loss: 0.0680\n",
      "test_acc 0.978600025177002\n",
      "test_loss 0.0680147334933281\n",
      "P 0   7\n",
      "R 0   7\n",
      "P 1   2\n",
      "R 1   2\n",
      "P 2   1\n",
      "R 2   1\n",
      "P 3   0\n",
      "R 3   0\n",
      "P 4   4\n",
      "R 4   4\n",
      "P 5   1\n",
      "R 5   1\n",
      "P 6   4\n",
      "R 6   4\n",
      "P 7   9\n",
      "R 7   9\n",
      "P 8   5\n",
      "R 8   5\n",
      "P 9   9\n",
      "R 9   9\n"
     ]
    }
   ],
   "source": [
    "#creiamo nuovo set di test che comprende solo le prime 10 del modello\n",
    "test_digits = test_images[0:10]\n",
    "predictions = model.predict(test_digits)\n",
    "\n",
    "#array che contiene la probabilità rispettiva che il test sia una cifra da 0 a 10 (la più grande è la più probabile)\n",
    "print(predictions[0])\n",
    "\n",
    "#valutiamo e stampiamo accuracy e loss\n",
    "test_loss, test_acc = model.evaluate(test_images, test_labels)\n",
    "print(\"test_acc\", test_acc)\n",
    "print(\"test_loss\", test_loss)\n",
    "\n",
    "#confrontiamo prediction e risultato effettivo\n",
    "for i in range(len(test_digits)):\n",
    "    print(\"P\",i,\" \",predictions[i].argmax())\n",
    "    print(\"R\",i,\" \",test_labels[i])\n"
   ]
  },
  {
   "cell_type": "code",
   "execution_count": 16,
   "id": "af87da34-4222-4459-9970-6b965ff928e2",
   "metadata": {},
   "outputs": [
    {
     "data": {
      "image/png": "[encoded data removed]",
      "text/plain": [
       "<Figure size 640x480 with 1 Axes>"
      ]
     },
     "metadata": {},
     "output_type": "display_data"
    }
   ],
   "source": [
    "#mostriamo sottoforma di grafico la cifra di test\n",
    "import matplotlib.pyplot as plt\n",
    "digit = test_digits[0].reshape((28, 28)) #reshape perchè abbiamo cambiato shape a 28 nel primo blocco di codice\n",
    "plt.imshow(digit, cmap=plt.cm.binary)\n",
    "plt.show()"
   ]
  },
  {
   "cell_type": "code",
   "execution_count": null,
   "id": "f8fa0173-f50e-4aee-aff6-6ad79aa8bb29",
   "metadata": {},
   "outputs": [],
   "source": []
  }
 ],
 "metadata": {
  "kernelspec": {
   "display_name": "Python 3 (ipykernel)",
   "language": "python",
   "name": "python3"
  },
  "language_info": {
   "codemirror_mode": {
    "name": "ipython",
    "version": 3
   },
   "file_extension": ".py",
   "mimetype": "text/x-python",
   "name": "python",
   "nbconvert_exporter": "python",
   "pygments_lexer": "ipython3",
   "version": "3.13.7"
  }
 },
 "nbformat": 4,
 "nbformat_minor": 5
}
