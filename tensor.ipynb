{
 "cells": [
  {
   "cell_type": "code",
   "execution_count": 5,
   "id": "b71a5c8f-7c9d-4fca-a7fb-68057f237e81",
   "metadata": {},
   "outputs": [],
   "source": [
    "#un tensor è un array usato per manipolare dati\n",
    "import tensorflow as tf\n",
    "\n",
    "x = tf.ones(shape=(2,1))\n",
    "x1 = tf.random.uniform(shape=(3,1), minval=0, maxval=1) #valori random da una distribuzione uniforme tra 0 e 1\n",
    "x2 = tf.random.normal(shape=(3,1),mean=0., stddev=1.) #riferiti a una distribuzione normale"
   ]
  },
  {
   "cell_type": "markdown",
   "id": "0c72daff-698d-4048-a194-0007c3487314",
   "metadata": {},
   "source": [
    "Un tensor non è assegnabile, quindi a differenza di un array, non possiamo modificare direttamente il valore di una \"cella\". \n",
    "Introduciamo quindi il concetto di variabile, cioè tensor con operazioni per modificarne dinamicamente lo stato."
   ]
  },
  {
   "cell_type": "code",
   "execution_count": 6,
   "id": "b67ebc14-26fc-4d5a-98e6-5be194c019b4",
   "metadata": {},
   "outputs": [
    {
     "name": "stdout",
     "output_type": "stream",
     "text": [
      "<tf.Variable 'Variable:0' shape=(3, 1) dtype=float32, numpy=\n",
      "array([[1.],\n",
      "       [1.],\n",
      "       [1.]], dtype=float32)>\n"
     ]
    }
   ],
   "source": [
    "variabile = tf.Variable(tf.ones((3,1))) #come np.ones (o np.zeros(ma con gli uno invece di zeri))\n",
    "print(variabile)"
   ]
  },
  {
   "cell_type": "markdown",
   "id": "2df65992-b391-41bf-b7aa-0ee5a394a50b",
   "metadata": {},
   "source": [
    "Andiamo a modificare lo stato di una variabile attraverso un'assegnazione:"
   ]
  },
  {
   "cell_type": "code",
   "execution_count": 19,
   "id": "9b701562-bd20-404a-a651-2965d3e2798a",
   "metadata": {},
   "outputs": [
    {
     "name": "stdout",
     "output_type": "stream",
     "text": [
      "<tf.Variable 'Variable:0' shape=(3, 1) dtype=float32, numpy=\n",
      "array([[3.],\n",
      "       [2.],\n",
      "       [2.]], dtype=float32)>\n"
     ]
    }
   ],
   "source": [
    "variabile[0,0].assign(2.)\n",
    "variabile.assign_add(tf.ones((3,1))) #o assign_sub, equivalenti di += e -=\n",
    "print(variabile)"
   ]
  },
  {
   "cell_type": "code",
   "execution_count": 23,
   "id": "b5bbf65e-1c09-4236-8ac7-5d771b85ddec",
   "metadata": {},
   "outputs": [
    {
     "name": "stdout",
     "output_type": "stream",
     "text": [
      "<tf.Variable 'Variable:0' shape=() dtype=float32, numpy=4.0>\n",
      "tf.Tensor(16.0, shape=(), dtype=float32)\n",
      "tf.Tensor(8.0, shape=(), dtype=float32)\n"
     ]
    }
   ],
   "source": [
    "#inizializzo variabile shape 1 a 4\n",
    "input_var = tf.Variable(initial_value=4.) \n",
    "with tf.GradientTape() as tape:\n",
    "    result = tf.square(input_var) #ne faccio il quadrato\n",
    "gradient = tape.gradient(result, input_var)\n",
    "#gradient rappresenta la derivata della funzione definita dentro il blocco GradientTape(quindi result), rispetto a input_var\n",
    "\n",
    "print(input_var)\n",
    "print(result)\n",
    "print(gradient) \n",
    "#gradient: formalmente, \"dammi la derivata di result rispetto a input_var\"\n",
    "#quindi per f(x) = x^2 allora la derivata f'(x) = 2x, con 4 come input_var ritorna 8"
   ]
  },
  {
   "cell_type": "markdown",
   "id": "9c918ef7-b7ec-4061-9112-6892b544b6af",
   "metadata": {},
   "source": [
    "Se abbiamo un constant tensor, dobbiamo manualmente \"flaggarlo\" chiamandogli la funzione tape.watch() "
   ]
  },
  {
   "cell_type": "code",
   "execution_count": 24,
   "id": "e73edb08-f2b2-47a7-b033-a7657e6e9cdf",
   "metadata": {},
   "outputs": [
    {
     "name": "stdout",
     "output_type": "stream",
     "text": [
      "tf.Tensor(3.0, shape=(), dtype=float32)\n",
      "tf.Tensor(9.0, shape=(), dtype=float32)\n",
      "tf.Tensor(6.0, shape=(), dtype=float32)\n"
     ]
    }
   ],
   "source": [
    "input_const = tf.constant(3.)\n",
    "with tf.GradientTape() as tape:\n",
    "    tape.watch(input_const)\n",
    "    result = tf.square(input_const) #ne faccio il quadrato\n",
    "gradient = tape.gradient(result, input_const)\n"
   ]
  },
  {
   "cell_type": "markdown",
   "id": "b26feb51-c6f9-42d0-934a-979ec94fda35",
   "metadata": {},
   "source": [
    "Possiamo anche avere gradient tapes annidati:"
   ]
  },
  {
   "cell_type": "code",
   "execution_count": 27,
   "id": "b97796e7-148a-45d5-84f4-bf3e490bc019",
   "metadata": {},
   "outputs": [
    {
     "name": "stdout",
     "output_type": "stream",
     "text": [
      "tf.Tensor(9.8, shape=(), dtype=float32)\n"
     ]
    }
   ],
   "source": [
    "time = tf.Variable(0.)\n",
    "with tf.GradientTape() as outer_tape:\n",
    "    with tf.GradientTape() as inner_tape:\n",
    "        position = 4.9 * time ** 2\n",
    "    speed = inner_tape.gradient(position, time)\n",
    "acceleration = outer_tape.gradient(speed,time)\n",
    "\n",
    "print(acceleration)"
   ]
  },
  {
   "cell_type": "code",
   "execution_count": null,
   "id": "28e7d7c5-3d99-4771-a2b4-77816f5c6457",
   "metadata": {},
   "outputs": [],
   "source": []
  }
 ],
 "metadata": {
  "kernelspec": {
   "display_name": "Python 3 (ipykernel)",
   "language": "python",
   "name": "python3"
  },
  "language_info": {
   "codemirror_mode": {
    "name": "ipython",
    "version": 3
   },
   "file_extension": ".py",
   "mimetype": "text/x-python",
   "name": "python",
   "nbconvert_exporter": "python",
   "pygments_lexer": "ipython3",
   "version": "3.13.7"
  }
 },
 "nbformat": 4,
 "nbformat_minor": 5
}
